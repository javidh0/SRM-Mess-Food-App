{
 "cells": [
  {
   "cell_type": "code",
   "execution_count": 92,
   "metadata": {},
   "outputs": [],
   "source": [
    "import json\n",
    "import pandas as pd\n",
    "\n",
    "FILE = \"C:/Users/JAVIDH S/Downloads/data.csv\""
   ]
  },
  {
   "cell_type": "code",
   "execution_count": 93,
   "metadata": {},
   "outputs": [
    {
     "data": {
      "text/html": [
       "<div>\n",
       "<style scoped>\n",
       "    .dataframe tbody tr th:only-of-type {\n",
       "        vertical-align: middle;\n",
       "    }\n",
       "\n",
       "    .dataframe tbody tr th {\n",
       "        vertical-align: top;\n",
       "    }\n",
       "\n",
       "    .dataframe thead th {\n",
       "        text-align: right;\n",
       "    }\n",
       "</style>\n",
       "<table border=\"1\" class=\"dataframe\">\n",
       "  <thead>\n",
       "    <tr style=\"text-align: right;\">\n",
       "      <th></th>\n",
       "      <th>1</th>\n",
       "      <th>2</th>\n",
       "      <th>3</th>\n",
       "      <th>4</th>\n",
       "      <th>5</th>\n",
       "      <th>6</th>\n",
       "      <th>7</th>\n",
       "      <th>1.1</th>\n",
       "      <th>2.1</th>\n",
       "      <th>3.1</th>\n",
       "      <th>...</th>\n",
       "      <th>5.2</th>\n",
       "      <th>6.2</th>\n",
       "      <th>7.2</th>\n",
       "      <th>1.3</th>\n",
       "      <th>2.3</th>\n",
       "      <th>3.3</th>\n",
       "      <th>4.3</th>\n",
       "      <th>5.3</th>\n",
       "      <th>6.3</th>\n",
       "      <th>7.3</th>\n",
       "    </tr>\n",
       "  </thead>\n",
       "  <tbody>\n",
       "    <tr>\n",
       "      <th>0</th>\n",
       "      <td>Bread</td>\n",
       "      <td>Bread</td>\n",
       "      <td>Bread</td>\n",
       "      <td>Bread</td>\n",
       "      <td>Bread</td>\n",
       "      <td>Bread</td>\n",
       "      <td>Bread</td>\n",
       "      <td>Chappathi</td>\n",
       "      <td>Sweet</td>\n",
       "      <td>Chappati</td>\n",
       "      <td>...</td>\n",
       "      <td>Sambar Vada (or) Millet Vada</td>\n",
       "      <td>Cake (or) Browni</td>\n",
       "      <td>Corn / Bajji with Chutney</td>\n",
       "      <td>Madras Paratha</td>\n",
       "      <td>Panjabi Paratha</td>\n",
       "      <td>Chappathi</td>\n",
       "      <td>Millet Sweet (or) Kasari</td>\n",
       "      <td>Millet Chappathi</td>\n",
       "      <td>Panjabi Paratha</td>\n",
       "      <td>Aloo Paratha</td>\n",
       "    </tr>\n",
       "    <tr>\n",
       "      <th>1</th>\n",
       "      <td>Butter</td>\n",
       "      <td>Butter</td>\n",
       "      <td>Butter</td>\n",
       "      <td>Butter</td>\n",
       "      <td>Butter</td>\n",
       "      <td>Butter</td>\n",
       "      <td>Butter</td>\n",
       "      <td>Rajma Masala</td>\n",
       "      <td>Milet Chappathi</td>\n",
       "      <td>Muttar Masala</td>\n",
       "      <td>...</td>\n",
       "      <td>Tea / Coffee</td>\n",
       "      <td>Tea / Coffee</td>\n",
       "      <td>Tea / Coffee</td>\n",
       "      <td>Mattar Panner Masala</td>\n",
       "      <td>Black Channa</td>\n",
       "      <td>Steamed Rice</td>\n",
       "      <td>NaN</td>\n",
       "      <td>Veg Manchurian / Gobi Manchurian</td>\n",
       "      <td>Potato Fry</td>\n",
       "      <td>Masala Curd</td>\n",
       "    </tr>\n",
       "    <tr>\n",
       "      <th>2</th>\n",
       "      <td>Jam</td>\n",
       "      <td>Jam</td>\n",
       "      <td>Jam</td>\n",
       "      <td>Jam</td>\n",
       "      <td>Jam</td>\n",
       "      <td>Jam</td>\n",
       "      <td>Jam</td>\n",
       "      <td>Jeera Pulao</td>\n",
       "      <td>Meal Maker Curry</td>\n",
       "      <td>Bhindi Aloo</td>\n",
       "      <td>...</td>\n",
       "      <td>NaN</td>\n",
       "      <td>NaN</td>\n",
       "      <td>NaN</td>\n",
       "      <td>Vegetable Idly</td>\n",
       "      <td>Steamed Rice</td>\n",
       "      <td>Dal Tadka</td>\n",
       "      <td>Chole Masala</td>\n",
       "      <td>Veg Fried Rice/ Veg Noodles</td>\n",
       "      <td>Streamed Rice</td>\n",
       "      <td>Streamed Rice</td>\n",
       "    </tr>\n",
       "    <tr>\n",
       "      <th>3</th>\n",
       "      <td>Millet Dosa</td>\n",
       "      <td>Poori</td>\n",
       "      <td>Millet Idly</td>\n",
       "      <td>Idiyappam (Lemon (or) Masala)</td>\n",
       "      <td>Rajma Masala</td>\n",
       "      <td>Chappathi</td>\n",
       "      <td>Chole Bhature</td>\n",
       "      <td>Streamed Rice</td>\n",
       "      <td>Bahra Pulao</td>\n",
       "      <td>Bujjiya</td>\n",
       "      <td>...</td>\n",
       "      <td>NaN</td>\n",
       "      <td>NaN</td>\n",
       "      <td>NaN</td>\n",
       "      <td>Idly Podi</td>\n",
       "      <td>Dal Fry</td>\n",
       "      <td>Butter Chicken Masala (Non-Veg)</td>\n",
       "      <td>Streamed Rice</td>\n",
       "      <td>Streamed Rice</td>\n",
       "      <td>Veg Jhal Pyaza</td>\n",
       "      <td>Hara Moong Dal Tadka</td>\n",
       "    </tr>\n",
       "    <tr>\n",
       "      <th>4</th>\n",
       "      <td>Idly</td>\n",
       "      <td>Dal</td>\n",
       "      <td>Idly</td>\n",
       "      <td>Chappathi</td>\n",
       "      <td>Dosa</td>\n",
       "      <td>Veg Khurma</td>\n",
       "      <td>Channa Masala</td>\n",
       "      <td>Arachivitta Sambar</td>\n",
       "      <td>Variety Rice</td>\n",
       "      <td>Veg Pulao</td>\n",
       "      <td>...</td>\n",
       "      <td>NaN</td>\n",
       "      <td>NaN</td>\n",
       "      <td>NaN</td>\n",
       "      <td>Oil</td>\n",
       "      <td>Chilly</td>\n",
       "      <td>Panner Butter Masala</td>\n",
       "      <td>Tomato Dal</td>\n",
       "      <td>Dak Maharani</td>\n",
       "      <td>bagara Dal</td>\n",
       "      <td>Kathamba Sambar</td>\n",
       "    </tr>\n",
       "  </tbody>\n",
       "</table>\n",
       "<p>5 rows × 28 columns</p>\n",
       "</div>"
      ],
      "text/plain": [
       "             1       2            3                              4  \\\n",
       "0        Bread   Bread        Bread                          Bread   \n",
       "1       Butter  Butter       Butter                         Butter   \n",
       "2          Jam     Jam          Jam                            Jam   \n",
       "3  Millet Dosa   Poori  Millet Idly  Idiyappam (Lemon (or) Masala)   \n",
       "4         Idly     Dal         Idly                      Chappathi   \n",
       "\n",
       "              5           6              7                 1.1  \\\n",
       "0         Bread       Bread          Bread           Chappathi   \n",
       "1        Butter      Butter         Butter        Rajma Masala   \n",
       "2           Jam         Jam            Jam         Jeera Pulao   \n",
       "3  Rajma Masala   Chappathi  Chole Bhature       Streamed Rice   \n",
       "4          Dosa  Veg Khurma  Channa Masala  Arachivitta Sambar   \n",
       "\n",
       "                2.1            3.1  ...                           5.2  \\\n",
       "0             Sweet       Chappati  ...  Sambar Vada (or) Millet Vada   \n",
       "1   Milet Chappathi  Muttar Masala  ...                  Tea / Coffee   \n",
       "2  Meal Maker Curry    Bhindi Aloo  ...                           NaN   \n",
       "3       Bahra Pulao        Bujjiya  ...                           NaN   \n",
       "4      Variety Rice      Veg Pulao  ...                           NaN   \n",
       "\n",
       "                6.2                        7.2                   1.3  \\\n",
       "0  Cake (or) Browni  Corn / Bajji with Chutney        Madras Paratha   \n",
       "1      Tea / Coffee               Tea / Coffee  Mattar Panner Masala   \n",
       "2               NaN                        NaN        Vegetable Idly   \n",
       "3               NaN                        NaN             Idly Podi   \n",
       "4               NaN                        NaN                   Oil   \n",
       "\n",
       "               2.3                              3.3                       4.3  \\\n",
       "0  Panjabi Paratha                        Chappathi  Millet Sweet (or) Kasari   \n",
       "1    Black Channa                      Steamed Rice                       NaN   \n",
       "2     Steamed Rice                        Dal Tadka              Chole Masala   \n",
       "3          Dal Fry  Butter Chicken Masala (Non-Veg)             Streamed Rice   \n",
       "4           Chilly             Panner Butter Masala                Tomato Dal   \n",
       "\n",
       "                                5.3              6.3                   7.3  \n",
       "0                  Millet Chappathi  Panjabi Paratha          Aloo Paratha  \n",
       "1  Veg Manchurian / Gobi Manchurian       Potato Fry           Masala Curd  \n",
       "2      Veg Fried Rice/ Veg Noodles     Streamed Rice         Streamed Rice  \n",
       "3                     Streamed Rice   Veg Jhal Pyaza  Hara Moong Dal Tadka  \n",
       "4                      Dak Maharani       bagara Dal       Kathamba Sambar  \n",
       "\n",
       "[5 rows x 28 columns]"
      ]
     },
     "execution_count": 93,
     "metadata": {},
     "output_type": "execute_result"
    }
   ],
   "source": [
    "df = pd.read_csv(FILE)\n",
    "df.head()"
   ]
  },
  {
   "cell_type": "code",
   "execution_count": 94,
   "metadata": {},
   "outputs": [],
   "source": [
    "data = {\n",
    "    \"menu\" : {}\n",
    "}"
   ]
  },
  {
   "cell_type": "code",
   "execution_count": null,
   "metadata": {},
   "outputs": [],
   "source": []
  },
  {
   "cell_type": "code",
   "execution_count": 95,
   "metadata": {},
   "outputs": [
    {
     "data": {
      "text/plain": [
       "{1: [], 2: [], 3: [], 4: [], 5: [], 6: [], 7: []}"
      ]
     },
     "execution_count": 95,
     "metadata": {},
     "output_type": "execute_result"
    }
   ],
   "source": [
    "temp = {}\n",
    "for i in range(1, 8):\n",
    "    temp[i] = []\n",
    "temp"
   ]
  },
  {
   "cell_type": "code",
   "execution_count": 97,
   "metadata": {},
   "outputs": [
    {
     "data": {
      "text/plain": [
       "{1: {1: [], 2: [], 3: [], 4: [], 5: [], 6: [], 7: []},\n",
       " 2: {1: [], 2: [], 3: [], 4: [], 5: [], 6: [], 7: []},\n",
       " 3: {1: [], 2: [], 3: [], 4: [], 5: [], 6: [], 7: []},\n",
       " 4: {1: [], 2: [], 3: [], 4: [], 5: [], 6: [], 7: []}}"
      ]
     },
     "execution_count": 97,
     "metadata": {},
     "output_type": "execute_result"
    }
   ],
   "source": [
    "for i in range(1, 5):\n",
    "    data['menu'][i] = temp.copy()\n",
    "\n",
    "data['menu']\n"
   ]
  },
  {
   "cell_type": "code",
   "execution_count": 98,
   "metadata": {},
   "outputs": [],
   "source": [
    "df.iloc[:, 1].dropna()\n",
    "for j in range(1, 8):\n",
    "    \n",
    "    data['menu'][1][j] = df.iloc[:, j-1].dropna().to_list()\n",
    "\n"
   ]
  },
  {
   "cell_type": "code",
   "execution_count": 99,
   "metadata": {},
   "outputs": [],
   "source": [
    "for j in range(1, 8):\n",
    "    data['menu'][2][j] = df.iloc[:, j+7-1].dropna().to_list()\n",
    "    # print(df.iloc[:, j+7-1].dropna().to_list())\n"
   ]
  },
  {
   "cell_type": "code",
   "execution_count": 100,
   "metadata": {},
   "outputs": [],
   "source": [
    "for j in range(1, 8):\n",
    "    data['menu'][3][j] = df.iloc[:, j+14-1].dropna().to_list()\n",
    "    # print(df.iloc[:, j+14-1].dropna().to_list())"
   ]
  },
  {
   "cell_type": "code",
   "execution_count": 101,
   "metadata": {},
   "outputs": [
    {
     "data": {
      "text/plain": [
       "['Mysore Bonda', 'Chutney', 'Tea / Coffee']"
      ]
     },
     "execution_count": 101,
     "metadata": {},
     "output_type": "execute_result"
    }
   ],
   "source": [
    "data['menu'][3][2]"
   ]
  },
  {
   "cell_type": "code",
   "execution_count": 102,
   "metadata": {},
   "outputs": [],
   "source": [
    "for j in range(1, 8):\n",
    "    data['menu'][4][j] = df.iloc[:, j+21-1].dropna().to_list()\n",
    "    # print(df.iloc[:, j+21-1].dropna().to_list())"
   ]
  },
  {
   "cell_type": "code",
   "execution_count": 103,
   "metadata": {},
   "outputs": [
    {
     "data": {
      "text/html": [
       "<div>\n",
       "<style scoped>\n",
       "    .dataframe tbody tr th:only-of-type {\n",
       "        vertical-align: middle;\n",
       "    }\n",
       "\n",
       "    .dataframe tbody tr th {\n",
       "        vertical-align: top;\n",
       "    }\n",
       "\n",
       "    .dataframe thead th {\n",
       "        text-align: right;\n",
       "    }\n",
       "</style>\n",
       "<table border=\"1\" class=\"dataframe\">\n",
       "  <thead>\n",
       "    <tr style=\"text-align: right;\">\n",
       "      <th></th>\n",
       "      <th>1</th>\n",
       "      <th>2</th>\n",
       "      <th>3</th>\n",
       "      <th>4</th>\n",
       "    </tr>\n",
       "  </thead>\n",
       "  <tbody>\n",
       "    <tr>\n",
       "      <th>1</th>\n",
       "      <td>[Bread, Butter, Jam, Millet Dosa, Idly, Podi, ...</td>\n",
       "      <td>[Chappathi, Rajma Masala, Jeera Pulao, Streame...</td>\n",
       "      <td>[Pav Bajji, Tea / Coffee]</td>\n",
       "      <td>[Madras Paratha, Mattar Panner Masala, Vegetab...</td>\n",
       "    </tr>\n",
       "    <tr>\n",
       "      <th>2</th>\n",
       "      <td>[Bread, Butter, Jam, Poori, Dal, Allo Masala, ...</td>\n",
       "      <td>[Sweet, Milet Chappathi, Meal Maker Curry, Bah...</td>\n",
       "      <td>[Mysore Bonda, Chutney, Tea / Coffee]</td>\n",
       "      <td>[Panjabi Paratha, Black Channa , Steamed Rice,...</td>\n",
       "    </tr>\n",
       "    <tr>\n",
       "      <th>3</th>\n",
       "      <td>[Bread, Butter, Jam, Millet Idly, Idly, Podi, ...</td>\n",
       "      <td>[Chappati, Muttar Masala, Bhindi Aloo, Bujjiya...</td>\n",
       "      <td>[Veg Puff (or) Sweet Puff, Tea / Coffee]</td>\n",
       "      <td>[Chappathi, Steamed Rice, Dal Tadka, Butter Ch...</td>\n",
       "    </tr>\n",
       "    <tr>\n",
       "      <th>4</th>\n",
       "      <td>[Bread, Butter, Jam, Idiyappam (Lemon (or) Mas...</td>\n",
       "      <td>[Chappati, Aloo Gobi Athiraki, Onion Pulao, St...</td>\n",
       "      <td>[Pani Poori (or) Channa Sundal, Tea / Coffee]</td>\n",
       "      <td>[Millet Sweet (or) Kasari, Chole Masala, Strea...</td>\n",
       "    </tr>\n",
       "    <tr>\n",
       "      <th>5</th>\n",
       "      <td>[Bread, Butter, Jam, Rajma Masala, Dosa, Idly,...</td>\n",
       "      <td>[Dry Jamun / Bread Halwa, Capsicum Gobi Curry,...</td>\n",
       "      <td>[Sambar Vada (or) Millet Vada, Tea / Coffee]</td>\n",
       "      <td>[Millet Chappathi, Veg Manchurian / Gobi Manch...</td>\n",
       "    </tr>\n",
       "    <tr>\n",
       "      <th>6</th>\n",
       "      <td>[Bread, Butter, Jam, Chappathi, Veg Khurma, Sa...</td>\n",
       "      <td>[Poori, White Peas Curry, Aloo Thindeli, Khasm...</td>\n",
       "      <td>[Cake (or) Browni, Tea / Coffee]</td>\n",
       "      <td>[Panjabi Paratha, Potato Fry, Streamed Rice, V...</td>\n",
       "    </tr>\n",
       "    <tr>\n",
       "      <th>7</th>\n",
       "      <td>[Bread, Butter, Jam, Chole Bhature, Channa Mas...</td>\n",
       "      <td>[Chappathi, Chicken (Pepper/kadai), Panner But...</td>\n",
       "      <td>[Corn / Bajji with Chutney, Tea / Coffee]</td>\n",
       "      <td>[Aloo Paratha, Masala Curd, Streamed Rice, Har...</td>\n",
       "    </tr>\n",
       "  </tbody>\n",
       "</table>\n",
       "</div>"
      ],
      "text/plain": [
       "                                                   1  \\\n",
       "1  [Bread, Butter, Jam, Millet Dosa, Idly, Podi, ...   \n",
       "2  [Bread, Butter, Jam, Poori, Dal, Allo Masala, ...   \n",
       "3  [Bread, Butter, Jam, Millet Idly, Idly, Podi, ...   \n",
       "4  [Bread, Butter, Jam, Idiyappam (Lemon (or) Mas...   \n",
       "5  [Bread, Butter, Jam, Rajma Masala, Dosa, Idly,...   \n",
       "6  [Bread, Butter, Jam, Chappathi, Veg Khurma, Sa...   \n",
       "7  [Bread, Butter, Jam, Chole Bhature, Channa Mas...   \n",
       "\n",
       "                                                   2  \\\n",
       "1  [Chappathi, Rajma Masala, Jeera Pulao, Streame...   \n",
       "2  [Sweet, Milet Chappathi, Meal Maker Curry, Bah...   \n",
       "3  [Chappati, Muttar Masala, Bhindi Aloo, Bujjiya...   \n",
       "4  [Chappati, Aloo Gobi Athiraki, Onion Pulao, St...   \n",
       "5  [Dry Jamun / Bread Halwa, Capsicum Gobi Curry,...   \n",
       "6  [Poori, White Peas Curry, Aloo Thindeli, Khasm...   \n",
       "7  [Chappathi, Chicken (Pepper/kadai), Panner But...   \n",
       "\n",
       "                                               3  \\\n",
       "1                      [Pav Bajji, Tea / Coffee]   \n",
       "2          [Mysore Bonda, Chutney, Tea / Coffee]   \n",
       "3       [Veg Puff (or) Sweet Puff, Tea / Coffee]   \n",
       "4  [Pani Poori (or) Channa Sundal, Tea / Coffee]   \n",
       "5   [Sambar Vada (or) Millet Vada, Tea / Coffee]   \n",
       "6               [Cake (or) Browni, Tea / Coffee]   \n",
       "7      [Corn / Bajji with Chutney, Tea / Coffee]   \n",
       "\n",
       "                                                   4  \n",
       "1  [Madras Paratha, Mattar Panner Masala, Vegetab...  \n",
       "2  [Panjabi Paratha, Black Channa , Steamed Rice,...  \n",
       "3  [Chappathi, Steamed Rice, Dal Tadka, Butter Ch...  \n",
       "4  [Millet Sweet (or) Kasari, Chole Masala, Strea...  \n",
       "5  [Millet Chappathi, Veg Manchurian / Gobi Manch...  \n",
       "6  [Panjabi Paratha, Potato Fry, Streamed Rice, V...  \n",
       "7  [Aloo Paratha, Masala Curd, Streamed Rice, Har...  "
      ]
     },
     "execution_count": 103,
     "metadata": {},
     "output_type": "execute_result"
    }
   ],
   "source": [
    "pd.DataFrame(data['menu'])"
   ]
  },
  {
   "cell_type": "code",
   "execution_count": 106,
   "metadata": {},
   "outputs": [],
   "source": [
    "FILE = \"C:/Users/JAVIDH S/Downloads/data.json\""
   ]
  },
  {
   "cell_type": "code",
   "execution_count": 107,
   "metadata": {},
   "outputs": [],
   "source": [
    "with open(FILE, \"w\") as outfile: \n",
    "    json.dump(data, outfile)"
   ]
  },
  {
   "cell_type": "code",
   "execution_count": null,
   "metadata": {},
   "outputs": [],
   "source": []
  }
 ],
 "metadata": {
  "kernelspec": {
   "display_name": "Python 3",
   "language": "python",
   "name": "python3"
  },
  "language_info": {
   "codemirror_mode": {
    "name": "ipython",
    "version": 3
   },
   "file_extension": ".py",
   "mimetype": "text/x-python",
   "name": "python",
   "nbconvert_exporter": "python",
   "pygments_lexer": "ipython3",
   "version": "3.9.6"
  }
 },
 "nbformat": 4,
 "nbformat_minor": 2
}
